{
 "cells": [
  {
   "cell_type": "markdown",
   "metadata": {},
   "source": [
    "# NYC Ticket Writing Machine!\n",
    "### DS4400 Final Project\n",
    "### by Benjamin Kosiborod and Victoria Staada\n",
    "&nbsp;\n",
    "## Data Cleanup"
   ]
  },
  {
   "cell_type": "code",
   "execution_count": 1,
   "metadata": {
    "id": "fNIEk9XwIQ0H"
   },
   "outputs": [],
   "source": [
    "# All project imports\n",
    "import pandas as pd\n",
    "import numpy as np\n",
    "import math"
   ]
  },
  {
   "cell_type": "code",
   "execution_count": 9,
   "metadata": {
    "id": "5-mTrASmIdSP"
   },
   "outputs": [
    {
     "name": "stderr",
     "output_type": "stream",
     "text": [
      "/home/ood.discovery.neu.edu/software/anaconda3/2019.10/lib/python3.7/site-packages/IPython/core/interactiveshell.py:3058: DtypeWarning: Columns (17,18,20,22,23,29,30,31,32,36,38,39) have mixed types. Specify dtype option on import or set low_memory=False.\n",
      "  interactivity=interactivity, compiler=compiler, result=result)\n"
     ]
    }
   ],
   "source": [
    "# Read in the data\n",
    "df = pd.read_csv('https://data.cityofnewyork.us/resource/faiq-9dfq.csv?$limit=12000000')"
   ]
  },
  {
   "cell_type": "code",
   "execution_count": 10,
   "metadata": {},
   "outputs": [
    {
     "name": "stdout",
     "output_type": "stream",
     "text": [
      "       summons_number  violation_code  street_code1  street_code2  \\\n",
      "count    1.146751e+07    1.146751e+07  1.146751e+07  1.146751e+07   \n",
      "mean     7.474217e+09    3.377908e+01  2.562781e+04  2.119624e+04   \n",
      "std      2.268085e+09    1.985783e+01  2.246802e+04  2.193509e+04   \n",
      "min      1.028884e+09    0.000000e+00  0.000000e+00  0.000000e+00   \n",
      "25%      8.500714e+09    2.000000e+01  9.130000e+03  0.000000e+00   \n",
      "50%      8.655880e+09    3.600000e+01  1.934000e+04  1.474000e+04   \n",
      "75%      8.694870e+09    4.000000e+01  3.618000e+04  3.427000e+04   \n",
      "max      8.768851e+09    9.900000e+01  9.802000e+04  9.831000e+04   \n",
      "\n",
      "       street_code3  vehicle_expiration_date  violation_location  \\\n",
      "count  1.146751e+07             1.146751e+07        9.589591e+06   \n",
      "mean   2.126681e+04             2.691894e+07        5.636025e+01   \n",
      "std    2.198500e+04             2.736702e+07        3.963513e+01   \n",
      "min    0.000000e+00             0.000000e+00        1.000000e+00   \n",
      "25%    0.000000e+00             2.018103e+07        1.900000e+01   \n",
      "50%    1.529000e+04             2.019093e+07        5.000000e+01   \n",
      "75%    3.435000e+04             2.020081e+07        9.000000e+01   \n",
      "max    9.828000e+04             8.888889e+07        9.720000e+02   \n",
      "\n",
      "       violation_precinct  issuer_precinct   issuer_code  date_first_observed  \\\n",
      "count        1.146751e+07     1.146751e+07  1.146751e+07         1.146751e+07   \n",
      "mean         4.713071e+01     5.211049e+01  3.343210e+05         2.774168e+05   \n",
      "std          4.181724e+01     7.045271e+01  1.917478e+05         2.350066e+06   \n",
      "min          0.000000e+00     0.000000e+00  0.000000e+00         0.000000e+00   \n",
      "25%          1.000000e+01     7.000000e+00  3.512120e+05         0.000000e+00   \n",
      "50%          4.000000e+01     3.400000e+01  3.619040e+05         0.000000e+00   \n",
      "75%          8.100000e+01     8.400000e+01  3.664660e+05         0.000000e+00   \n",
      "max          9.720000e+02     9.960000e+02  9.999780e+05         2.028082e+07   \n",
      "\n",
      "        law_section  unregistered_vehicle  vehicle_year  feet_from_curb  \\\n",
      "count  1.146751e+07              887035.0  1.146751e+07    1.146751e+07   \n",
      "mean   5.261089e+02                   0.0  1.564313e+03    1.155072e-01   \n",
      "std    2.723649e+02                   0.0  8.367438e+02    8.150393e-01   \n",
      "min    0.000000e+00                   0.0  0.000000e+00    0.000000e+00   \n",
      "25%    4.080000e+02                   0.0  2.001000e+03    0.000000e+00   \n",
      "50%    4.080000e+02                   0.0  2.011000e+03    0.000000e+00   \n",
      "75%    4.080000e+02                   0.0  2.016000e+03    0.000000e+00   \n",
      "max    1.180000e+03                   0.0  2.069000e+03    1.600000e+01   \n",
      "\n",
      "       no_standing_or_stopping  hydrant_violation  double_parking_violation  \n",
      "count                      0.0                0.0                       0.0  \n",
      "mean                       NaN                NaN                       NaN  \n",
      "std                        NaN                NaN                       NaN  \n",
      "min                        NaN                NaN                       NaN  \n",
      "25%                        NaN                NaN                       NaN  \n",
      "50%                        NaN                NaN                       NaN  \n",
      "75%                        NaN                NaN                       NaN  \n",
      "max                        NaN                NaN                       NaN  \n"
     ]
    }
   ],
   "source": [
    "# Preview the data\n",
    "print(df.describe())"
   ]
  },
  {
   "cell_type": "code",
   "execution_count": 11,
   "metadata": {},
   "outputs": [],
   "source": [
    "# Drop some columns that are empty, or do not have useful data\n",
    "df = df.drop(columns=['unregistered_vehicle', 'violation_post_code', 'violation_description', 'no_standing_or_stopping', 'hydrant_violation', 'double_parking_violation'])"
   ]
  },
  {
   "cell_type": "code",
   "execution_count": 12,
   "metadata": {},
   "outputs": [
    {
     "name": "stdout",
     "output_type": "stream",
     "text": [
      "<class 'pandas.core.frame.DataFrame'>\n",
      "RangeIndex: 11467506 entries, 0 to 11467505\n",
      "Data columns (total 37 columns):\n",
      "summons_number              int64\n",
      "plate_id                    object\n",
      "registration_state          object\n",
      "plate_type                  object\n",
      "issue_date                  object\n",
      "violation_code              int64\n",
      "vehicle_body_type           object\n",
      "vehicle_make                object\n",
      "issuing_agency              object\n",
      "street_code1                int64\n",
      "street_code2                int64\n",
      "street_code3                int64\n",
      "vehicle_expiration_date     int64\n",
      "violation_location          float64\n",
      "violation_precinct          int64\n",
      "issuer_precinct             int64\n",
      "issuer_code                 int64\n",
      "issuer_command              object\n",
      "issuer_squad                object\n",
      "violation_time              object\n",
      "time_first_observed         object\n",
      "violation_county            object\n",
      "violation_in_front_of_or    object\n",
      "house_number                object\n",
      "street_name                 object\n",
      "intersecting_street         object\n",
      "date_first_observed         int64\n",
      "law_section                 int64\n",
      "sub_division                object\n",
      "violation_legal_code        object\n",
      "days_parking_in_effect      object\n",
      "from_hours_in_effect        object\n",
      "to_hours_in_effect          object\n",
      "vehicle_color               object\n",
      "vehicle_year                int64\n",
      "meter_number                object\n",
      "feet_from_curb              int64\n",
      "dtypes: float64(1), int64(13), object(23)\n",
      "memory usage: 3.2+ GB\n",
      "None\n"
     ]
    }
   ],
   "source": [
    "# Check types\n",
    "print(df.info())"
   ]
  },
  {
   "cell_type": "code",
   "execution_count": 13,
   "metadata": {},
   "outputs": [],
   "source": [
    "# Instead of having meter numbers, change this column into a boolean value\n",
    "# for meter or no meter recorded at time of violation\n",
    "df['meter_number'] = df['meter_number'].apply(lambda x: 0 if x == '-' or pd.isnull(x) else 1)"
   ]
  },
  {
   "cell_type": "code",
   "execution_count": 57,
   "metadata": {},
   "outputs": [],
   "source": [
    "# Drop rows where vehicle color is null or unknown, as there are only \n",
    "# ~155K such rows, which should be fine to drop as this is an\n",
    "# important column and we have ~11.5M rows of data\n",
    "df = df[(pd.notnull(df['vehicle_color'])) \n",
    "        & (df['vehicle_color'] != 'UNK') \n",
    "        & (df['vehicle_color'] != 'UNKNO') \n",
    "        & (df['vehicle_color'] != 'O') \n",
    "        & (df['vehicle_color'] != 'MRPK') \n",
    "        & (df['vehicle_color'] != 'EMOOL')\n",
    "        & (df['vehicle_color'] != 'IL')\n",
    "        & (df['vehicle_color'] != 'TRF')]"
   ]
  },
  {
   "cell_type": "code",
   "execution_count": 56,
   "metadata": {},
   "outputs": [
    {
     "name": "stdout",
     "output_type": "stream",
     "text": [
      "1626\n",
      "['Red' 'Beige' 'Gray' ... 'YELLL' 'BUNGE' 'TRF']\n"
     ]
    }
   ],
   "source": [
    "colors = {}\n",
    "for color in ('WH', 'W', 'w', 'white', 'White', 'WT', 'WHI', 'WH/', 'WHITE', 'Cream', 'CREAM', 'WT.', 'WHTE', 'WH YW', 'WHITW', 'HT'):\n",
    "    colors[color] = 'White'\n",
    "for color in ('Black','BLK','BK','black','BLK.','BK.','BLACK'):\n",
    "    colors[color] = 'Black'\n",
    "for color in ('GRY', 'Gray', 'GY/', 'GRAY', 'GY', 'GREY', 'grey', 'Grey', 'DKGRY', 'M.GRE', 'GY/GL', 'GRAYF', 'CHRAY'):\n",
    "    colors[color] = 'Gray'\n",
    "for color in ('Silver', 'SILVER', 'SLV', 'SV', 'SL', 'SILV', 'SIL', 'SILVR', 'SL.', 'STEEL', 'MET'):\n",
    "    colors[color] = 'Silver'\n",
    "for color in ('TAN', 'Beige','BEIGE', 'beige', 'BLD', 'ALMON'):\n",
    "    colors[color] = 'Beige'\n",
    "for color in ('RED', 'red', 'RD', 'rd', 'Rd', 'Red', 'RO', 'BUGA', 'MAROO', 'MAR', 'BUNGE'):\n",
    "    colors[color] = 'Red'\n",
    "for color in ('BLUE', 'BLLU', 'QBLUE', 'BUO'):\n",
    "    colors[color] = 'Blue'\n",
    "for color in ('GREEN', 'GYN'):\n",
    "    colors[color] = 'Green'\n",
    "for color in ('YELLW', 'YEL', 'YELLO', 'YW', 'GOLDE', 'ORO', 'YOL', 'YLOW', 'YL'):\n",
    "    colors[color] = 'Yellow'\n",
    "for color in ('BR/GY', 'BON', 'BRWMN', 'BREIR', 'BEUG', 'BRWN'):\n",
    "    colors[color] = 'Brown'\n",
    "for color in ('LAVEN', 'PURPL'):\n",
    "    colors[color] = 'Purple'\n",
    "\n",
    "df['vehicle_color'] = df['vehicle_color'].apply(lambda row: colors.get(row, row))\n",
    "print(len(df['vehicle_color'].unique()))\n",
    "print(df['vehicle_color'].unique())"
   ]
  },
  {
   "cell_type": "code",
   "execution_count": null,
   "metadata": {},
   "outputs": [],
   "source": []
  }
 ],
 "metadata": {
  "colab": {
   "authorship_tag": "ABX9TyPr0dZ4wyC8oM28XFuSJtJg",
   "include_colab_link": true,
   "name": "Untitled0.ipynb",
   "provenance": []
  },
  "kernelspec": {
   "display_name": "Python 3",
   "language": "python",
   "name": "python3"
  },
  "language_info": {
   "codemirror_mode": {
    "name": "ipython",
    "version": 3
   },
   "file_extension": ".py",
   "mimetype": "text/x-python",
   "name": "python",
   "nbconvert_exporter": "python",
   "pygments_lexer": "ipython3",
   "version": "3.7.4"
  }
 },
 "nbformat": 4,
 "nbformat_minor": 1
}
