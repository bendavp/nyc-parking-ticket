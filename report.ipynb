{
  "nbformat": 4,
  "nbformat_minor": 0,
  "metadata": {
    "colab": {
      "name": "Untitled0.ipynb",
      "provenance": [],
      "authorship_tag": "ABX9TyPr0dZ4wyC8oM28XFuSJtJg",
      "include_colab_link": true
    },
    "kernelspec": {
      "name": "python3",
      "display_name": "Python 3",
      "language": "python"
    }
  },
  "cells": [
    {
      "source": [
        "# NYC Ticket Writing Machine!\n",
        "### DS4400 Final Project\n",
        "### by Benjamin Kosiborod and Victoria Staada\n",
        "&nbsp;\n",
        "## Data Cleanup"
      ],
      "cell_type": "markdown",
      "metadata": {}
    },
    {
      "cell_type": "code",
      "metadata": {
        "id": "fNIEk9XwIQ0H"
      },
      "source": [
        "# All project imports\n",
        "import pandas as pd"
      ],
      "execution_count": 2,
      "outputs": []
    },
    {
      "cell_type": "code",
      "metadata": {
        "id": "5-mTrASmIdSP"
      },
      "source": [
        "# Read in the data\n",
        "df = pd.read_csv('data.csv')"
      ],
      "execution_count": 5,
      "outputs": [
        {
          "output_type": "stream",
          "name": "stderr",
          "text": [
            "/Users/bendavp/opt/anaconda3/lib/python3.8/site-packages/IPython/core/interactiveshell.py:3146: DtypeWarning: Columns (17,18,20,22,23,29,30,31,32,36,38,39) have mixed types.Specify dtype option on import or set low_memory=False.\n",
            "  has_raised = await self.run_ast_nodes(code_ast.body, cell_name,\n",
            "   Summons Number Plate ID Registration State Plate Type  Issue Date  \\\n",
            "0      1442479747  HCP7926                 NY        PAS  07/16/2018   \n",
            "1      1442479759  HSZ2472                 NY        PAS  07/13/2018   \n",
            "2      1442479772  HYJ1988                 NY        PAS  07/13/2018   \n",
            "3      1442480397  HNV6246                 NY        PAS  07/13/2018   \n",
            "4      1442480403  HWG4025                 NY        PAS  07/13/2018   \n",
            "\n",
            "   Violation Code Vehicle Body Type Vehicle Make Issuing Agency  Street Code1  \\\n",
            "0              21               SDN        ME/BE              S             0   \n",
            "1              21              SUBN        ME/BE              S         49230   \n",
            "2              21              SUBN        HONDA              S         12430   \n",
            "3              21              SUBN        TOYOT              S         83730   \n",
            "4              21              SUBN        HYUND              S         83730   \n",
            "\n",
            "   ...  Vehicle Color  Unregistered Vehicle?  Vehicle Year  Meter Number  \\\n",
            "0  ...            RED                    0.0          2016             -   \n",
            "1  ...            TAN                    0.0          2003             -   \n",
            "2  ...           GREY                    0.0          2018             -   \n",
            "3  ...           BLUE                    0.0          2005             -   \n",
            "4  ...          GREEN                    0.0          2010             -   \n",
            "\n",
            "   Feet From Curb  Violation Post Code  Violation Description  \\\n",
            "0               0                  NaN                    NaN   \n",
            "1               0                  NaN                    NaN   \n",
            "2               0                  NaN                    NaN   \n",
            "3               0                  NaN                    NaN   \n",
            "4               0                  NaN                    NaN   \n",
            "\n",
            "  No Standing or Stopping Violation Hydrant Violation Double Parking Violation  \n",
            "0                               NaN               NaN                      NaN  \n",
            "1                               NaN               NaN                      NaN  \n",
            "2                               NaN               NaN                      NaN  \n",
            "3                               NaN               NaN                      NaN  \n",
            "4                               NaN               NaN                      NaN  \n",
            "\n",
            "[5 rows x 43 columns]\n"
          ]
        }
      ]
    },
    {
      "cell_type": "code",
      "execution_count": 8,
      "metadata": {},
      "outputs": [
        {
          "output_type": "stream",
          "name": "stdout",
          "text": [
            "       Summons Number  Violation Code  Street Code1  Street Code2  \\\ncount    1.146751e+07    1.146751e+07  1.146751e+07  1.146751e+07   \nmean     7.474217e+09    3.377908e+01  2.562781e+04  2.119624e+04   \nstd      2.268085e+09    1.985783e+01  2.246802e+04  2.193509e+04   \nmin      1.028884e+09    0.000000e+00  0.000000e+00  0.000000e+00   \n25%      8.500714e+09    2.000000e+01  9.130000e+03  0.000000e+00   \n50%      8.655880e+09    3.600000e+01  1.934000e+04  1.474000e+04   \n75%      8.694870e+09    4.000000e+01  3.618000e+04  3.427000e+04   \nmax      8.768851e+09    9.900000e+01  9.802000e+04  9.831000e+04   \n\n       Street Code3  Vehicle Expiration Date  Violation Location  \\\ncount  1.146751e+07             1.146751e+07        9.589591e+06   \nmean   2.126681e+04             2.691894e+07        5.636025e+01   \nstd    2.198500e+04             2.736702e+07        3.963513e+01   \nmin    0.000000e+00             0.000000e+00        1.000000e+00   \n25%    0.000000e+00             2.018103e+07        1.900000e+01   \n50%    1.529000e+04             2.019093e+07        5.000000e+01   \n75%    3.435000e+04             2.020081e+07        9.000000e+01   \nmax    9.828000e+04             8.888889e+07        9.720000e+02   \n\n       Violation Precinct  Issuer Precinct   Issuer Code  Date First Observed  \\\ncount        1.146751e+07     1.146751e+07  1.146751e+07         1.146751e+07   \nmean         4.713071e+01     5.211049e+01  3.343210e+05         2.774168e+05   \nstd          4.181724e+01     7.045271e+01  1.917478e+05         2.350066e+06   \nmin          0.000000e+00     0.000000e+00  0.000000e+00         0.000000e+00   \n25%          1.000000e+01     7.000000e+00  3.512120e+05         0.000000e+00   \n50%          4.000000e+01     3.400000e+01  3.619040e+05         0.000000e+00   \n75%          8.100000e+01     8.400000e+01  3.664660e+05         0.000000e+00   \nmax          9.720000e+02     9.960000e+02  9.999780e+05         2.028082e+07   \n\n        Law Section  Unregistered Vehicle?  Vehicle Year  Feet From Curb  \\\ncount  1.146751e+07               887035.0  1.146751e+07    1.146751e+07   \nmean   5.261089e+02                    0.0  1.564313e+03    1.155072e-01   \nstd    2.723649e+02                    0.0  8.367438e+02    8.150393e-01   \nmin    0.000000e+00                    0.0  0.000000e+00    0.000000e+00   \n25%    4.080000e+02                    0.0  2.001000e+03    0.000000e+00   \n50%    4.080000e+02                    0.0  2.011000e+03    0.000000e+00   \n75%    4.080000e+02                    0.0  2.016000e+03    0.000000e+00   \nmax    1.180000e+03                    0.0  2.069000e+03    1.600000e+01   \n\n       No Standing or Stopping Violation  Hydrant Violation  \\\ncount                                0.0                0.0   \nmean                                 NaN                NaN   \nstd                                  NaN                NaN   \nmin                                  NaN                NaN   \n25%                                  NaN                NaN   \n50%                                  NaN                NaN   \n75%                                  NaN                NaN   \nmax                                  NaN                NaN   \n\n       Double Parking Violation  \ncount                       0.0  \nmean                        NaN  \nstd                         NaN  \nmin                         NaN  \n25%                         NaN  \n50%                         NaN  \n75%                         NaN  \nmax                         NaN  \n\n\n\n   Summons Number Plate ID Registration State Plate Type  Issue Date  \\\n0      1442479747  HCP7926                 NY        PAS  07/16/2018   \n1      1442479759  HSZ2472                 NY        PAS  07/13/2018   \n2      1442479772  HYJ1988                 NY        PAS  07/13/2018   \n3      1442480397  HNV6246                 NY        PAS  07/13/2018   \n4      1442480403  HWG4025                 NY        PAS  07/13/2018   \n\n   Violation Code Vehicle Body Type Vehicle Make Issuing Agency  Street Code1  \\\n0              21               SDN        ME/BE              S             0   \n1              21              SUBN        ME/BE              S         49230   \n2              21              SUBN        HONDA              S         12430   \n3              21              SUBN        TOYOT              S         83730   \n4              21              SUBN        HYUND              S         83730   \n\n   ...  Vehicle Color  Unregistered Vehicle?  Vehicle Year  Meter Number  \\\n0  ...            RED                    0.0          2016             -   \n1  ...            TAN                    0.0          2003             -   \n2  ...           GREY                    0.0          2018             -   \n3  ...           BLUE                    0.0          2005             -   \n4  ...          GREEN                    0.0          2010             -   \n\n   Feet From Curb  Violation Post Code  Violation Description  \\\n0               0                  NaN                    NaN   \n1               0                  NaN                    NaN   \n2               0                  NaN                    NaN   \n3               0                  NaN                    NaN   \n4               0                  NaN                    NaN   \n\n  No Standing or Stopping Violation Hydrant Violation Double Parking Violation  \n0                               NaN               NaN                      NaN  \n1                               NaN               NaN                      NaN  \n2                               NaN               NaN                      NaN  \n3                               NaN               NaN                      NaN  \n4                               NaN               NaN                      NaN  \n\n[5 rows x 43 columns]\n"
          ]
        }
      ],
      "source": [
        "# Preview the data\n",
        "print(df.describe())"
      ]
    },
    {
      "cell_type": "code",
      "execution_count": 9,
      "metadata": {},
      "outputs": [],
      "source": [
        "# Drop the last 3 columns, as they contain no data\n",
        "df = df.drop(columns=['No Standing or Stopping Violation', 'Hydrant Violation', 'Double Parking Violation'])"
      ]
    },
    {
      "cell_type": "code",
      "execution_count": 10,
      "metadata": {},
      "outputs": [
        {
          "output_type": "stream",
          "name": "stdout",
          "text": [
            "<class 'pandas.core.frame.DataFrame'>\nRangeIndex: 11467506 entries, 0 to 11467505\nData columns (total 40 columns):\n #   Column                             Dtype  \n---  ------                             -----  \n 0   Summons Number                     int64  \n 1   Plate ID                           object \n 2   Registration State                 object \n 3   Plate Type                         object \n 4   Issue Date                         object \n 5   Violation Code                     int64  \n 6   Vehicle Body Type                  object \n 7   Vehicle Make                       object \n 8   Issuing Agency                     object \n 9   Street Code1                       int64  \n 10  Street Code2                       int64  \n 11  Street Code3                       int64  \n 12  Vehicle Expiration Date            int64  \n 13  Violation Location                 float64\n 14  Violation Precinct                 int64  \n 15  Issuer Precinct                    int64  \n 16  Issuer Code                        int64  \n 17  Issuer Command                     object \n 18  Issuer Squad                       object \n 19  Violation Time                     object \n 20  Time First Observed                object \n 21  Violation County                   object \n 22  Violation In Front Of Or Opposite  object \n 23  House Number                       object \n 24  Street Name                        object \n 25  Intersecting Street                object \n 26  Date First Observed                int64  \n 27  Law Section                        int64  \n 28  Sub Division                       object \n 29  Violation Legal Code               object \n 30  Days Parking In Effect             object \n 31  From Hours In Effect               object \n 32  To Hours In Effect                 object \n 33  Vehicle Color                      object \n 34  Unregistered Vehicle?              float64\n 35  Vehicle Year                       int64  \n 36  Meter Number                       object \n 37  Feet From Curb                     int64  \n 38  Violation Post Code                object \n 39  Violation Description              object \ndtypes: float64(2), int64(13), object(25)\nmemory usage: 3.4+ GB\nNone\n"
          ]
        }
      ],
      "source": [
        "# Check types\n",
        "print(df.info())"
      ]
    }
  ]
}