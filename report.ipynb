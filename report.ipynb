{
 "cells": [
  {
   "cell_type": "markdown",
   "metadata": {},
   "source": [
    "# NYC Ticket Writing Machine!\n",
    "### DS4400 Final Project\n",
    "### by Benjamin Kosiborod and Victoria Staada\n",
    "&nbsp;\n",
    "## Data Cleanup"
   ]
  },
  {
   "cell_type": "code",
   "execution_count": 4,
   "metadata": {
    "id": "fNIEk9XwIQ0H"
   },
   "outputs": [],
   "source": [
    "# All project imports\n",
    "import pandas as pd\n",
    "import numpy as np\n",
    "import math"
   ]
  },
  {
   "cell_type": "code",
   "execution_count": 5,
   "metadata": {
    "id": "5-mTrASmIdSP"
   },
   "outputs": [
    {
     "output_type": "stream",
     "name": "stderr",
     "text": [
      "/home/vicky/.local/lib/python3.8/site-packages/IPython/core/interactiveshell.py:3155: DtypeWarning: Columns (17,18,20,22,23,29,30,31,32,36,38,39) have mixed types.Specify dtype option on import or set low_memory=False.\n  has_raised = await self.run_ast_nodes(code_ast.body, cell_name,\n"
     ]
    }
   ],
   "source": [
    "# Read in the data\n",
    "df = pd.read_csv('https://data.cityofnewyork.us/resource/faiq-9dfq.csv?$limit=12000000')"
   ]
  },
  {
   "cell_type": "code",
   "execution_count": 6,
   "metadata": {},
   "outputs": [
    {
     "output_type": "stream",
     "name": "stdout",
     "text": [
      "       summons_number  violation_code  street_code1  street_code2  \\\ncount    1.146751e+07    1.146751e+07  1.146751e+07  1.146751e+07   \nmean     7.474217e+09    3.377908e+01  2.562781e+04  2.119624e+04   \nstd      2.268085e+09    1.985783e+01  2.246802e+04  2.193509e+04   \nmin      1.028884e+09    0.000000e+00  0.000000e+00  0.000000e+00   \n25%      8.500714e+09    2.000000e+01  9.130000e+03  0.000000e+00   \n50%      8.655880e+09    3.600000e+01  1.934000e+04  1.474000e+04   \n75%      8.694870e+09    4.000000e+01  3.618000e+04  3.427000e+04   \nmax      8.768851e+09    9.900000e+01  9.802000e+04  9.831000e+04   \n\n       street_code3  vehicle_expiration_date  violation_location  \\\ncount  1.146751e+07             1.146751e+07        9.589591e+06   \nmean   2.126681e+04             2.691894e+07        5.636025e+01   \nstd    2.198500e+04             2.736702e+07        3.963513e+01   \nmin    0.000000e+00             0.000000e+00        1.000000e+00   \n25%    0.000000e+00             2.018103e+07        1.900000e+01   \n50%    1.529000e+04             2.019093e+07        5.000000e+01   \n75%    3.435000e+04             2.020081e+07        9.000000e+01   \nmax    9.828000e+04             8.888889e+07        9.720000e+02   \n\n       violation_precinct  issuer_precinct   issuer_code  date_first_observed  \\\ncount        1.146751e+07     1.146751e+07  1.146751e+07         1.146751e+07   \nmean         4.713071e+01     5.211049e+01  3.343210e+05         2.774168e+05   \nstd          4.181724e+01     7.045271e+01  1.917478e+05         2.350066e+06   \nmin          0.000000e+00     0.000000e+00  0.000000e+00         0.000000e+00   \n25%          1.000000e+01     7.000000e+00  3.512120e+05         0.000000e+00   \n50%          4.000000e+01     3.400000e+01  3.619040e+05         0.000000e+00   \n75%          8.100000e+01     8.400000e+01  3.664660e+05         0.000000e+00   \nmax          9.720000e+02     9.960000e+02  9.999780e+05         2.028082e+07   \n\n        law_section  unregistered_vehicle  vehicle_year  feet_from_curb  \\\ncount  1.146751e+07              887035.0  1.146751e+07    1.146751e+07   \nmean   5.261089e+02                   0.0  1.564313e+03    1.155072e-01   \nstd    2.723649e+02                   0.0  8.367438e+02    8.150393e-01   \nmin    0.000000e+00                   0.0  0.000000e+00    0.000000e+00   \n25%    4.080000e+02                   0.0  2.001000e+03    0.000000e+00   \n50%    4.080000e+02                   0.0  2.011000e+03    0.000000e+00   \n75%    4.080000e+02                   0.0  2.016000e+03    0.000000e+00   \nmax    1.180000e+03                   0.0  2.069000e+03    1.600000e+01   \n\n       no_standing_or_stopping  hydrant_violation  double_parking_violation  \ncount                      0.0                0.0                       0.0  \nmean                       NaN                NaN                       NaN  \nstd                        NaN                NaN                       NaN  \nmin                        NaN                NaN                       NaN  \n25%                        NaN                NaN                       NaN  \n50%                        NaN                NaN                       NaN  \n75%                        NaN                NaN                       NaN  \nmax                        NaN                NaN                       NaN  \n"
     ]
    }
   ],
   "source": [
    "# Preview the data\n",
    "print(df.describe())"
   ]
  },
  {
   "cell_type": "code",
   "execution_count": 7,
   "metadata": {},
   "outputs": [],
   "source": [
    "# Drop some columns that are empty, or do not have useful data\n",
    "df = df.drop(columns=['unregistered_vehicle', 'violation_post_code', 'violation_description', 'no_standing_or_stopping', 'hydrant_violation', 'double_parking_violation'])"
   ]
  },
  {
   "cell_type": "code",
   "execution_count": 8,
   "metadata": {},
   "outputs": [
    {
     "output_type": "stream",
     "name": "stdout",
     "text": [
      "<class 'pandas.core.frame.DataFrame'>\nRangeIndex: 11467506 entries, 0 to 11467505\nData columns (total 37 columns):\n #   Column                    Dtype  \n---  ------                    -----  \n 0   summons_number            int64  \n 1   plate_id                  object \n 2   registration_state        object \n 3   plate_type                object \n 4   issue_date                object \n 5   violation_code            int64  \n 6   vehicle_body_type         object \n 7   vehicle_make              object \n 8   issuing_agency            object \n 9   street_code1              int64  \n 10  street_code2              int64  \n 11  street_code3              int64  \n 12  vehicle_expiration_date   int64  \n 13  violation_location        float64\n 14  violation_precinct        int64  \n 15  issuer_precinct           int64  \n 16  issuer_code               int64  \n 17  issuer_command            object \n 18  issuer_squad              object \n 19  violation_time            object \n 20  time_first_observed       object \n 21  violation_county          object \n 22  violation_in_front_of_or  object \n 23  house_number              object \n 24  street_name               object \n 25  intersecting_street       object \n 26  date_first_observed       int64  \n 27  law_section               int64  \n 28  sub_division              object \n 29  violation_legal_code      object \n 30  days_parking_in_effect    object \n 31  from_hours_in_effect      object \n 32  to_hours_in_effect        object \n 33  vehicle_color             object \n 34  vehicle_year              int64  \n 35  meter_number              object \n 36  feet_from_curb            int64  \ndtypes: float64(1), int64(13), object(23)\nmemory usage: 3.2+ GB\nNone\n"
     ]
    }
   ],
   "source": [
    "# Check types\n",
    "print(df.info())"
   ]
  },
  {
   "cell_type": "code",
   "execution_count": 9,
   "metadata": {},
   "outputs": [],
   "source": [
    "# Instead of having meter numbers, change this column into a boolean value\n",
    "# for meter or no meter recorded at time of violation\n",
    "df['meter_number'] = df['meter_number'].apply(lambda x: 0 if x == '-' or pd.isnull(x) else 1)"
   ]
  },
  {
   "cell_type": "code",
   "execution_count": 10,
   "metadata": {},
   "outputs": [],
   "source": [
    "# Drop rows where vehicle color is null or unknown, as there are only \n",
    "# ~155K such rows, which should be fine to drop as this is an\n",
    "# important column and we have ~11.5M rows of data\n",
    "df = df[(pd.notnull(df['vehicle_color'])) \n",
    "        & (df['vehicle_color'] != 'UNK') \n",
    "        & (df['vehicle_color'] != 'UNKNO') \n",
    "        & (df['vehicle_color'] != 'EMOOL')\n",
    "        & (df['vehicle_color'] != 'IL')\n",
    "        & (df['vehicle_color'] != 'TRF')\n",
    "        & (df['vehicle_color'] != 'NO')\n",
    "        & (df['vehicle_color'] != 'XXX')]"
   ]
  },
  {
   "cell_type": "code",
   "execution_count": 11,
   "metadata": {},
   "outputs": [
    {
     "output_type": "stream",
     "name": "stdout",
     "text": [
      "1457\n",
      "['Red' 'Beige' 'Gray' ... 'WHLE' 'BLKWH' 'YELLL']\n"
     ]
    }
   ],
   "source": [
    "colors = {}\n",
    "for color in ('WH', 'W', 'w', 'white', 'White', 'WT', 'WHI', 'WH/', 'WHITE', 'Cream', 'CREAM', 'WT.', 'WHTE', 'WH YW', 'WHITW', 'HT', 'WHT', 'WHBL', 'WHB', 'WHO', 'WHGY', 'WHIT', 'WHG', 'WHRD', 'WHGR', 'WTE', 'WH.', 'WHBK', 'WHTN', 'WHT.', 'WHTIE', 'WHE', 'WHGL', 'W/B', 'CRM', 'WHBR', 'WHWH', 'WHOR', 'WG', 'WHYW', 'WHIE', 'WJ', 'WHLE'):\n",
    "    colors[color] = 'White'\n",
    "for color in ('Black', 'BLK', 'BK', 'black', 'BLK.', 'BK.', 'BLACK', 'BLW', 'BKGY', 'BK/', 'BKBL', 'BLCK', 'BKGR', 'BLWH', 'BLA', 'BKG', 'BLK.', 'BKTN', 'BKW', 'BKT', 'BKWH', 'BLAC', 'BLAK', 'BLTN', 'BLRD', 'BKBK', 'BLGL', 'BLKWH'):\n",
    "    colors[color] = 'Black'\n",
    "for color in ('GRY', 'Gray', 'GY/', 'GRAY', 'GY', 'GREY', 'grey', 'Grey', 'DKGRY', 'M.GRE', 'GY/GL', 'GRAYF', 'CHRAY', 'LTGY', 'DKGY', 'GYGY', 'GYBL', 'GYGR', 'GY.', 'GYB', 'GRA', 'GYRD', 'GYBK', 'GYTN', 'GYG', 'GYBR', 'GYWH', 'GRY.', 'GRAY.', 'ALUMI', 'GYT', 'GREY.', 'GYGL', 'Gray', 'GYPR', 'GY GR'):\n",
    "    colors[color] = 'Gray'\n",
    "for color in ('Silver', 'SILVER', 'SLV', 'SV', 'SL', 'SILV', 'SILVE', 'SIL', 'SILVR', 'SL.', 'STEEL', 'MET', 'SLVR', 'SLR', 'SIV', 'SLVER', 'SLIVE', 'SLVE', 'SIL.'):\n",
    "    colors[color] = 'Silver'\n",
    "for color in ('TAN', 'Beige', 'BEIGE', 'beige', 'BLD', 'ALMON', 'TN', 'LTTN', 'TNGY', 'BE', 'BIEGE', 'TNGR', 'DKTN', 'TN/', 'BEIG'):\n",
    "    colors[color] = 'Beige'\n",
    "for color in ('RED', 'red', 'RD', 'rd', 'Rd', 'Red', 'RO', 'BUGA', 'MAROO', 'MAR', 'MR', 'BUNGE', 'RDW', 'DKR', 'DKRD', 'RD/', 'BURG', 'BURGU', 'BUR', 'RDGY', 'RD.', 'RDT', 'RDBK', 'RDBL', 'MRPK', 'RDG', 'RDGR', 'RDWH', 'RDRD', 'RDTN', 'DKMR', 'RD BK', 'RED.', 'BURGA', 'MRGY', 'MRN', 'BUG', 'RE', 'RDBR', 'DKRED'):\n",
    "    colors[color] = 'Red'\n",
    "for color in ('BLUE', 'BL', 'BLLU', 'QBLUE', 'BUO', 'BLU', 'DKBL', 'BLG', 'BL/', 'BLGY', 'LTBL', 'BLGR', 'BLBL', 'DBL', 'BL.', 'BLB', 'LBL', 'BLBK', 'BLUE.', 'NAVY', 'BLRD'):\n",
    "    colors[color] = 'Blue'\n",
    "for color in ('GREEN', 'GR', 'GYN', 'GRN', 'LTGR', 'DKGR', 'GR/', 'GRE', 'GRGY', 'GRG', 'GRW', 'GRBL', 'GRGR', 'DGR', 'GRB', 'GREN', 'GRT', 'LGR', 'GREE', 'GRTN'):\n",
    "    colors[color] = 'Green'\n",
    "for color in ('YELLW', 'YEL', 'YELL', 'YELLO', 'YW', 'GOLDE', 'ORO', 'YOL', 'YLOW', 'YL', 'GL', 'GOLD', 'GLD', 'YLW', 'Y', 'YE', 'YLLW', 'YELLL'):\n",
    "    colors[color] = 'Yellow'\n",
    "for color in ('BROWN', 'BR', 'BR/GY', 'BON', 'BRWMN', 'BREIR', 'BEUG', 'BRWN', 'BRN', 'BRO', 'BRW', 'BWN', 'LTBR', 'BROW', 'BRZ', 'DKBR', 'BRBL', 'BRON', 'BRT'):\n",
    "    colors[color] = 'Brown'\n",
    "for color in ('LAVEN', 'PURPL', 'PR', 'PURP', 'PUR', 'DKRR'):\n",
    "    colors[color] = 'Purple'\n",
    "for color in ('OR', 'ORANGE', 'ORANG', 'ONG', 'O', 'OG', 'ORA', 'ORAN', 'ORWH', 'ORN'):\n",
    "    colors[color] = 'Orange'\n",
    "\n",
    "df['vehicle_color'] = df['vehicle_color'].apply(lambda row: colors.get(row, row))\n",
    "print(len(df['vehicle_color'].unique()))\n",
    "print(df['vehicle_color'].unique())"
   ]
  },
  {
   "cell_type": "code",
   "execution_count": null,
   "metadata": {},
   "outputs": [],
   "source": [
    "df['vehicle_color'].value_counts().head(25)"
   ]
  }
 ],
 "metadata": {
  "colab": {
   "authorship_tag": "ABX9TyPr0dZ4wyC8oM28XFuSJtJg",
   "include_colab_link": true,
   "name": "Untitled0.ipynb",
   "provenance": []
  },
  "kernelspec": {
   "display_name": "Python 3",
   "language": "python",
   "name": "python3"
  },
  "language_info": {
   "codemirror_mode": {
    "name": "ipython",
    "version": 3
   },
   "file_extension": ".py",
   "mimetype": "text/x-python",
   "name": "python",
   "nbconvert_exporter": "python",
   "pygments_lexer": "ipython3",
   "version": "3.8.5"
  }
 },
 "nbformat": 4,
 "nbformat_minor": 1
}